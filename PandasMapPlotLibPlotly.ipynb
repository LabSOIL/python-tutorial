{
 "cells": [
  {
   "cell_type": "markdown",
   "id": "e3c4c84b-30bf-41a6-8821-41c5f16e4d99",
   "metadata": {
    "jp-MarkdownHeadingCollapsed": true
   },
   "source": [
    "## SOIL Python Tutorial\n",
    "\n",
    "\n",
    "Evan Thomas (evan.thomas@epfl.ch)\n",
    "\n",
    "24.11.23"
   ]
  },
  {
   "cell_type": "markdown",
   "id": "cd82ec5c-9e08-4f32-bf5b-dd9751890d62",
   "metadata": {},
   "source": [
    "# This is a markdown block\n",
    "\n",
    "## We\n",
    "### can\n",
    "#### illustrate ideas in these\n",
    "\n",
    "* Put unordered lists\n",
    "1. Ordered lists\n",
    "\n",
    "`code snippets`\n",
    "\n",
    "Images... ![SOIL](https://avatars.githubusercontent.com/u/130440995?s=200&v=4)\n",
    "\n",
    "And links -> [Markdown cheatsheet](https://www.markdownguide.org/cheat-sheet/)\n",
    "\n",
    "Note: Markdown is the same language as what is put in the README.md file of a repository, that is shown in the repository's main page\n",
    "\n",
    "[SOIL: lab-codes](https://github.com/LabSOIL/lab-codes)\n",
    "\n",
    "**You can switch between `Code` and `Markdown` (... and `Raw`) with the toggle in the main toolbar ^^**"
   ]
  },
  {
   "cell_type": "code",
   "execution_count": null,
   "id": "e42cbdc2-9a69-40dd-8eb8-b26e75a0a528",
   "metadata": {},
   "outputs": [],
   "source": [
    "# This is a code block\n",
    "# In these, you can execute code!\n",
    "print(\"Hello, I am code...\")"
   ]
  },
  {
   "cell_type": "markdown",
   "id": "864668cd-7e07-4f20-ba2c-c7cf5c858fe4",
   "metadata": {},
   "source": [
    "## Download data \n",
    "Let's begin with some `.csv` data.\n",
    "\n",
    "[Cattle - Evolution of the cow population in Switzerland: *Number of registered and living cows in Switzerland*](https://opendata.swiss/en/dataset/rinder-entwicklung-der-kuhpopulation-in-der-schweiz)\n",
    "\n",
    "Move the file into the same location as this jupyter notebook.\n",
    "\n",
    "Note: Here's a trick to find where we are located. The `os` library interfaces with the computer's OS (Operating System), and can help us do things that we can normally do in the **Terminal**/**Command Prompt**."
   ]
  },
  {
   "cell_type": "code",
   "execution_count": null,
   "id": "31cf8e80-9908-4fe4-957a-8d91e1fdc318",
   "metadata": {},
   "outputs": [],
   "source": [
    "import os\n",
    "print(os.getcwd())  # get CWD: current working directory "
   ]
  },
  {
   "cell_type": "code",
   "execution_count": null,
   "id": "af95a25a-ba81-4722-9d88-a29d6d73007e",
   "metadata": {},
   "outputs": [],
   "source": [
    "import pandas as pd  # \"as pd\" is not necessary but is common shorthand to see for pandas in examples online\n",
    "\n",
    "# For a quick insight we can open it, but this is not saved into memory \n",
    "# (ie. We can't do anything more with it)\n",
    "pd.read_csv('cow-CH.csv')"
   ]
  },
  {
   "cell_type": "code",
   "execution_count": null,
   "id": "af711ea9-8cda-4584-b1d0-6e95b575c9bf",
   "metadata": {},
   "outputs": [],
   "source": [
    "pd.set_option('display.max_rows', None)"
   ]
  },
  {
   "cell_type": "code",
   "execution_count": null,
   "id": "402e3f4c-da36-47fb-9264-68ecf30a811f",
   "metadata": {
    "scrolled": true
   },
   "outputs": [],
   "source": [
    "# They use semicolons instead of commas, sometimes it's a tab, so we have to define\n",
    "df = pd.read_csv('cow-CH.csv', sep=';',header=1, index_col=['Year', 'Month'])\n",
    "df"
   ]
  },
  {
   "cell_type": "code",
   "execution_count": null,
   "id": "cd694f44-d0ce-43b7-818d-4e5b92db39b9",
   "metadata": {},
   "outputs": [],
   "source": [
    "df[4:7]"
   ]
  },
  {
   "cell_type": "code",
   "execution_count": null,
   "id": "d1ff0b4e-ce4d-48ae-9cfd-5250d6cbd37b",
   "metadata": {},
   "outputs": [],
   "source": [
    "df.plot()"
   ]
  },
  {
   "cell_type": "code",
   "execution_count": null,
   "id": "39a46b87-0378-4d96-a18c-3f3607d8d4bc",
   "metadata": {},
   "outputs": [],
   "source": [
    "df"
   ]
  },
  {
   "cell_type": "code",
   "execution_count": null,
   "id": "57e3aeb2-e8b1-4c27-9751-62c0aa3485dc",
   "metadata": {},
   "outputs": [],
   "source": [
    "# Aggregate data by a column\n",
    "# https://pandas.pydata.org/docs/reference/api/pandas.DataFrame.groupby.html\n",
    "df_by_year = df.groupby(\"Year\").sum()\n",
    "df_by_year"
   ]
  },
  {
   "cell_type": "code",
   "execution_count": null,
   "id": "32719142-5952-4d40-bd81-a9d78cae4007",
   "metadata": {},
   "outputs": [],
   "source": [
    "# Divide all values by 1000\n",
    "df_by_year /= 1000  # Same as: df_by_year = df_by_year / 1000 (same can be done with other operators (+, -, *)\n",
    "df_by_year"
   ]
  },
  {
   "cell_type": "code",
   "execution_count": null,
   "id": "6ea4e30b-bd2f-425e-aaa8-115b6eb3bb8f",
   "metadata": {},
   "outputs": [],
   "source": [
    "df_by_year.describe()"
   ]
  },
  {
   "cell_type": "code",
   "execution_count": null,
   "id": "f3979ee1-e8bf-4b0d-abd9-3db8206a4123",
   "metadata": {},
   "outputs": [],
   "source": [
    "df_by_year.boxplot()"
   ]
  },
  {
   "cell_type": "code",
   "execution_count": null,
   "id": "a8763d59-a1d9-498a-9b1d-2d7456be74aa",
   "metadata": {},
   "outputs": [],
   "source": [
    "# Maybe we don't want 2023, as it's an outlier in our data as data update interval is Monthly\n",
    "df_complete_years = df_by_year[df_by_year.index <= 2022]\n",
    "df_complete_years"
   ]
  },
  {
   "cell_type": "code",
   "execution_count": null,
   "id": "1c84dd4c-7a35-445a-9b86-5b55820caf0f",
   "metadata": {},
   "outputs": [],
   "source": [
    "df_complete_years.plot.box()"
   ]
  },
  {
   "cell_type": "code",
   "execution_count": null,
   "id": "f205023d-aeee-4174-a9cc-22eabff32bca",
   "metadata": {},
   "outputs": [],
   "source": [
    "df_complete_years.plot.bar(y='Total')"
   ]
  },
  {
   "cell_type": "code",
   "execution_count": null,
   "id": "b31e4abc-c5ae-4461-8cba-9610b35d043a",
   "metadata": {},
   "outputs": [],
   "source": [
    "df_by_year.plot.pie(y='Total')"
   ]
  },
  {
   "cell_type": "code",
   "execution_count": null,
   "id": "05203075-0285-49ec-9750-772183d36392",
   "metadata": {},
   "outputs": [],
   "source": [
    "df_by_year.to_numpy()"
   ]
  },
  {
   "cell_type": "markdown",
   "id": "4bc25085-7572-484b-999f-34f5c0711da8",
   "metadata": {},
   "source": [
    "#### Stylising the line chart\n",
    "\n",
    "[pandas.DataFrame.plot API reference](https://pandas.pydata.org/docs/reference/api/pandas.DataFrame.plot.html)"
   ]
  },
  {
   "cell_type": "code",
   "execution_count": null,
   "id": "d9ec1f75-1739-471c-9177-bb2c3eba3866",
   "metadata": {},
   "outputs": [],
   "source": [
    "pd.options.plotting.backend = \"matplotlib\"\n",
    "plt = df_complete_years.plot(\n",
    "    title=\"Number of registered and living cows in Switzerland\",\n",
    "    xlabel=\"Period (Year)\",\n",
    "    ylabel=\"Total of cows (Thousands)\"\n",
    ")\n",
    "fig = plt.get_figure()\n",
    "fig.savefig('RegisteredCowsPerYearSwitzerland.pdf')"
   ]
  },
  {
   "cell_type": "code",
   "execution_count": null,
   "id": "1a41e7fb-4f29-420a-aaf6-82e4bd9a19b3",
   "metadata": {},
   "outputs": [],
   "source": [
    "import plotly.express as px\n",
    "\n",
    "# Use the Plotly backend in pandas\n",
    "pd.options.plotting.backend = \"plotly\"\n",
    "\n",
    "# Plot the total cows with error bars using Plotly\n",
    "fig = df_complete_years.plot(\n",
    "    title=\"Number of registered and living cows in Switzerland\",\n",
    "    labels={\n",
    "        'value': 'Total of cows (Thousands)',\n",
    "        'year': \"Year\",\n",
    "        }\n",
    ")\n",
    "# Show the plot\n",
    "fig.show()"
   ]
  },
  {
   "cell_type": "markdown",
   "id": "419663f7-b924-4b98-949e-4d9a54644daf",
   "metadata": {},
   "source": [
    "**Note**: Before saving the notebook (unless intended), it's best to clear all cell content as this is saved with the notebook. Especially if uploading to git.\n",
    "\n",
    "`Kernel` -> `Restart Kernel and Clear Outputs of All Cells...`"
   ]
  },
  {
   "cell_type": "code",
   "execution_count": 3,
   "id": "e4e09d84-41d1-4ca1-97fc-bbb442dcc568",
   "metadata": {},
   "outputs": [
    {
     "name": "stdout",
     "output_type": "stream",
     "text": [
      "This is terrible work, please redo\n"
     ]
    }
   ],
   "source": [
    "print(\"This is terrible work, please redo\")"
   ]
  }
 ],
 "metadata": {
  "kernelspec": {
   "display_name": "Python 3 (ipykernel)",
   "language": "python",
   "name": "python3"
  },
  "language_info": {
   "codemirror_mode": {
    "name": "ipython",
    "version": 3
   },
   "file_extension": ".py",
   "mimetype": "text/x-python",
   "name": "python",
   "nbconvert_exporter": "python",
   "pygments_lexer": "ipython3",
   "version": "3.11.6"
  }
 },
 "nbformat": 4,
 "nbformat_minor": 5
}
